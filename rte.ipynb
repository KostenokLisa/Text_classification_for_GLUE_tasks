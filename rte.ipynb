{
  "nbformat": 4,
  "nbformat_minor": 0,
  "metadata": {
    "colab": {
      "name": "rte.ipynb",
      "provenance": [],
      "collapsed_sections": []
    },
    "kernelspec": {
      "name": "python3",
      "display_name": "Python 3"
    },
    "language_info": {
      "name": "python"
    },
    "accelerator": "GPU"
  },
  "cells": [
    {
      "cell_type": "code",
      "source": [
        "!pip install wget"
      ],
      "metadata": {
        "id": "7OjBBDNizk5m"
      },
      "execution_count": null,
      "outputs": []
    },
    {
      "cell_type": "code",
      "source": [
        "!pip install transformers"
      ],
      "metadata": {
        "id": "y-RA-Gf1CpzQ"
      },
      "execution_count": null,
      "outputs": []
    },
    {
      "cell_type": "code",
      "execution_count": 3,
      "metadata": {
        "id": "MGOPn3F8rNC2"
      },
      "outputs": [],
      "source": [
        "import os\n",
        "import sys\n",
        "import wget \n",
        "import numpy as np\n",
        "import pandas as pd\n",
        "from sklearn.model_selection import train_test_split\n",
        "from sklearn.linear_model import LogisticRegression\n",
        "from sklearn.model_selection import GridSearchCV\n",
        "from sklearn.model_selection import cross_val_score\n",
        "from sklearn.metrics import accuracy_score\n",
        "import torch\n",
        "import torch.nn as nn\n",
        "from torch.nn.utils.rnn import pad_sequence\n",
        "import torch.nn.functional as F\n",
        "import torch.optim as optim\n",
        "from torch.utils.data import TensorDataset, DataLoader\n",
        "import transformers as ppb\n",
        "import warnings\n",
        "warnings.filterwarnings('ignore')"
      ]
    },
    {
      "cell_type": "code",
      "source": [
        "import matplotlib.pyplot as plt\n",
        "%matplotlib inline"
      ],
      "metadata": {
        "id": "MJ3c0jB7btK2"
      },
      "execution_count": 4,
      "outputs": []
    },
    {
      "cell_type": "code",
      "source": [
        "if torch.cuda.is_available():     \n",
        "    device = torch.device(\"cuda\")\n",
        "    print(\"GPU is available!\")\n",
        "else:\n",
        "    device = torch.device(\"cpu\")"
      ],
      "metadata": {
        "colab": {
          "base_uri": "https://localhost:8080/"
        },
        "id": "Gor-DU8sldTm",
        "outputId": "0d635ecd-f4e8-4a70-f2a8-e60df8de4260"
      },
      "execution_count": 5,
      "outputs": [
        {
          "output_type": "stream",
          "name": "stdout",
          "text": [
            "GPU is available!\n"
          ]
        }
      ]
    },
    {
      "cell_type": "markdown",
      "source": [
        "Data               | Task                                      | Metric\n",
        "-------------------|-------------------------------------------|----------------\n",
        "CoLA               | Sentence is grammatical or not grammatical|Matthews\n",
        "SST-2              | Review is positive negative or neutral    |Accuracy\n",
        "RTE                | Sentence 1 -> Sentence 2?                 |Accuracy"
      ],
      "metadata": {
        "id": "rYYJpeq0wavm"
      }
    },
    {
      "cell_type": "markdown",
      "source": [
        "## Data preprocessing "
      ],
      "metadata": {
        "id": "2HrOcD-vCa8t"
      }
    },
    {
      "cell_type": "code",
      "source": [
        "rte_link = \"https://dl.fbaipublicfiles.com/glue/data/RTE.zip\"\n",
        "wget.download(rte_link, \"./RTE.zip\")"
      ],
      "metadata": {
        "id": "LjfgFS8Mzxd9",
        "colab": {
          "base_uri": "https://localhost:8080/",
          "height": 35
        },
        "outputId": "8f781407-b2e5-4ea7-bd2a-2eb4abb6120a"
      },
      "execution_count": 6,
      "outputs": [
        {
          "output_type": "execute_result",
          "data": {
            "text/plain": [
              "'./RTE.zip'"
            ],
            "application/vnd.google.colaboratory.intrinsic+json": {
              "type": "string"
            }
          },
          "metadata": {},
          "execution_count": 6
        }
      ]
    },
    {
      "cell_type": "code",
      "source": [
        "!unzip RTE.zip\n"
      ],
      "metadata": {
        "colab": {
          "base_uri": "https://localhost:8080/"
        },
        "id": "wvosDYTMK7mQ",
        "outputId": "46c8c0d6-2602-4552-b898-ebd11f851939"
      },
      "execution_count": 7,
      "outputs": [
        {
          "output_type": "stream",
          "name": "stdout",
          "text": [
            "Archive:  RTE.zip\n",
            "   creating: RTE/\n",
            "  inflating: RTE/dev.tsv             \n",
            "  inflating: RTE/test.tsv            \n",
            "  inflating: RTE/train.tsv           \n"
          ]
        }
      ]
    },
    {
      "cell_type": "markdown",
      "source": [
        "Data preprocessing: removing first line with columns names, encoding str labels"
      ],
      "metadata": {
        "id": "7htU6i6WWkW6"
      }
    },
    {
      "cell_type": "code",
      "source": [
        "rte_data = pd.read_csv(\"/content/RTE/train.tsv\", delimiter=\"\\t\", names=[\"index\", \"sentence1\", \"sentence2\", \"label\"], index_col=False)\n",
        "rte_data.drop(axis=1, index=0, inplace=True)\n",
        "rte_data[\"label\"] = (rte_data[\"label\"] == \"entailment\").astype(int)\n",
        "print(\"Total of pairs of train sentences\", rte_data.shape[0])\n",
        "print(\"Sample of tokenized sentences: \", rte_data[\"sentence1\"][1], rte_data[\"sentence2\"][1])\n",
        "rte_data.head(5)"
      ],
      "metadata": {
        "colab": {
          "base_uri": "https://localhost:8080/",
          "height": 261
        },
        "id": "b6J0OeEC4ral",
        "outputId": "bc22b743-a264-47a8-f1a6-1a36818e58b4"
      },
      "execution_count": 8,
      "outputs": [
        {
          "output_type": "stream",
          "name": "stdout",
          "text": [
            "Total of pairs of train sentences 2490\n",
            "Sample of tokenized sentences:  No Weapons of Mass Destruction Found in Iraq Yet. Weapons of Mass Destruction Found in Iraq.\n"
          ]
        },
        {
          "output_type": "execute_result",
          "data": {
            "text/plain": [
              "  index                                          sentence1  \\\n",
              "1     0  No Weapons of Mass Destruction Found in Iraq Yet.   \n",
              "2     1  A place of sorrow, after Pope John Paul II die...   \n",
              "3     2  Herceptin was already approved to treat the si...   \n",
              "4     3  Judie Vivian, chief executive at ProMedica, a ...   \n",
              "5     4  A man is due in court later charged with the m...   \n",
              "\n",
              "                                           sentence2  label  \n",
              "1         Weapons of Mass Destruction Found in Iraq.      0  \n",
              "2  Pope Benedict XVI is the new leader of the Rom...      1  \n",
              "3      Herceptin can be used to treat breast cancer.      1  \n",
              "4  The previous name of Ho Chi Minh City was Saigon.      1  \n",
              "5  Paul Stewart Hutchinson is accused of having s...      0  "
            ],
            "text/html": [
              "\n",
              "  <div id=\"df-db77678a-292d-4d4a-a753-af729380d463\">\n",
              "    <div class=\"colab-df-container\">\n",
              "      <div>\n",
              "<style scoped>\n",
              "    .dataframe tbody tr th:only-of-type {\n",
              "        vertical-align: middle;\n",
              "    }\n",
              "\n",
              "    .dataframe tbody tr th {\n",
              "        vertical-align: top;\n",
              "    }\n",
              "\n",
              "    .dataframe thead th {\n",
              "        text-align: right;\n",
              "    }\n",
              "</style>\n",
              "<table border=\"1\" class=\"dataframe\">\n",
              "  <thead>\n",
              "    <tr style=\"text-align: right;\">\n",
              "      <th></th>\n",
              "      <th>index</th>\n",
              "      <th>sentence1</th>\n",
              "      <th>sentence2</th>\n",
              "      <th>label</th>\n",
              "    </tr>\n",
              "  </thead>\n",
              "  <tbody>\n",
              "    <tr>\n",
              "      <th>1</th>\n",
              "      <td>0</td>\n",
              "      <td>No Weapons of Mass Destruction Found in Iraq Yet.</td>\n",
              "      <td>Weapons of Mass Destruction Found in Iraq.</td>\n",
              "      <td>0</td>\n",
              "    </tr>\n",
              "    <tr>\n",
              "      <th>2</th>\n",
              "      <td>1</td>\n",
              "      <td>A place of sorrow, after Pope John Paul II die...</td>\n",
              "      <td>Pope Benedict XVI is the new leader of the Rom...</td>\n",
              "      <td>1</td>\n",
              "    </tr>\n",
              "    <tr>\n",
              "      <th>3</th>\n",
              "      <td>2</td>\n",
              "      <td>Herceptin was already approved to treat the si...</td>\n",
              "      <td>Herceptin can be used to treat breast cancer.</td>\n",
              "      <td>1</td>\n",
              "    </tr>\n",
              "    <tr>\n",
              "      <th>4</th>\n",
              "      <td>3</td>\n",
              "      <td>Judie Vivian, chief executive at ProMedica, a ...</td>\n",
              "      <td>The previous name of Ho Chi Minh City was Saigon.</td>\n",
              "      <td>1</td>\n",
              "    </tr>\n",
              "    <tr>\n",
              "      <th>5</th>\n",
              "      <td>4</td>\n",
              "      <td>A man is due in court later charged with the m...</td>\n",
              "      <td>Paul Stewart Hutchinson is accused of having s...</td>\n",
              "      <td>0</td>\n",
              "    </tr>\n",
              "  </tbody>\n",
              "</table>\n",
              "</div>\n",
              "      <button class=\"colab-df-convert\" onclick=\"convertToInteractive('df-db77678a-292d-4d4a-a753-af729380d463')\"\n",
              "              title=\"Convert this dataframe to an interactive table.\"\n",
              "              style=\"display:none;\">\n",
              "        \n",
              "  <svg xmlns=\"http://www.w3.org/2000/svg\" height=\"24px\"viewBox=\"0 0 24 24\"\n",
              "       width=\"24px\">\n",
              "    <path d=\"M0 0h24v24H0V0z\" fill=\"none\"/>\n",
              "    <path d=\"M18.56 5.44l.94 2.06.94-2.06 2.06-.94-2.06-.94-.94-2.06-.94 2.06-2.06.94zm-11 1L8.5 8.5l.94-2.06 2.06-.94-2.06-.94L8.5 2.5l-.94 2.06-2.06.94zm10 10l.94 2.06.94-2.06 2.06-.94-2.06-.94-.94-2.06-.94 2.06-2.06.94z\"/><path d=\"M17.41 7.96l-1.37-1.37c-.4-.4-.92-.59-1.43-.59-.52 0-1.04.2-1.43.59L10.3 9.45l-7.72 7.72c-.78.78-.78 2.05 0 2.83L4 21.41c.39.39.9.59 1.41.59.51 0 1.02-.2 1.41-.59l7.78-7.78 2.81-2.81c.8-.78.8-2.07 0-2.86zM5.41 20L4 18.59l7.72-7.72 1.47 1.35L5.41 20z\"/>\n",
              "  </svg>\n",
              "      </button>\n",
              "      \n",
              "  <style>\n",
              "    .colab-df-container {\n",
              "      display:flex;\n",
              "      flex-wrap:wrap;\n",
              "      gap: 12px;\n",
              "    }\n",
              "\n",
              "    .colab-df-convert {\n",
              "      background-color: #E8F0FE;\n",
              "      border: none;\n",
              "      border-radius: 50%;\n",
              "      cursor: pointer;\n",
              "      display: none;\n",
              "      fill: #1967D2;\n",
              "      height: 32px;\n",
              "      padding: 0 0 0 0;\n",
              "      width: 32px;\n",
              "    }\n",
              "\n",
              "    .colab-df-convert:hover {\n",
              "      background-color: #E2EBFA;\n",
              "      box-shadow: 0px 1px 2px rgba(60, 64, 67, 0.3), 0px 1px 3px 1px rgba(60, 64, 67, 0.15);\n",
              "      fill: #174EA6;\n",
              "    }\n",
              "\n",
              "    [theme=dark] .colab-df-convert {\n",
              "      background-color: #3B4455;\n",
              "      fill: #D2E3FC;\n",
              "    }\n",
              "\n",
              "    [theme=dark] .colab-df-convert:hover {\n",
              "      background-color: #434B5C;\n",
              "      box-shadow: 0px 1px 3px 1px rgba(0, 0, 0, 0.15);\n",
              "      filter: drop-shadow(0px 1px 2px rgba(0, 0, 0, 0.3));\n",
              "      fill: #FFFFFF;\n",
              "    }\n",
              "  </style>\n",
              "\n",
              "      <script>\n",
              "        const buttonEl =\n",
              "          document.querySelector('#df-db77678a-292d-4d4a-a753-af729380d463 button.colab-df-convert');\n",
              "        buttonEl.style.display =\n",
              "          google.colab.kernel.accessAllowed ? 'block' : 'none';\n",
              "\n",
              "        async function convertToInteractive(key) {\n",
              "          const element = document.querySelector('#df-db77678a-292d-4d4a-a753-af729380d463');\n",
              "          const dataTable =\n",
              "            await google.colab.kernel.invokeFunction('convertToInteractive',\n",
              "                                                     [key], {});\n",
              "          if (!dataTable) return;\n",
              "\n",
              "          const docLinkHtml = 'Like what you see? Visit the ' +\n",
              "            '<a target=\"_blank\" href=https://colab.research.google.com/notebooks/data_table.ipynb>data table notebook</a>'\n",
              "            + ' to learn more about interactive tables.';\n",
              "          element.innerHTML = '';\n",
              "          dataTable['output_type'] = 'display_data';\n",
              "          await google.colab.output.renderOutput(dataTable, element);\n",
              "          const docLink = document.createElement('div');\n",
              "          docLink.innerHTML = docLinkHtml;\n",
              "          element.appendChild(docLink);\n",
              "        }\n",
              "      </script>\n",
              "    </div>\n",
              "  </div>\n",
              "  "
            ]
          },
          "metadata": {},
          "execution_count": 8
        }
      ]
    },
    {
      "cell_type": "code",
      "source": [
        "dev_rte_data = pd.read_csv(\"/content/RTE/dev.tsv\", delimiter=\"\\t\", names=[\"index\", \"sentence1\", \"sentence2\", \"label\"], index_col=False)\n",
        "dev_rte_data.drop(axis=1, index=0, inplace=True)\n",
        "dev_rte_data[\"label\"] = (dev_rte_data[\"label\"] == \"entailment\").astype(int)\n",
        "print(\"Total of pairs of test sentences\", dev_rte_data.shape[0])\n",
        "print(\"Sample of tokenized sentences: \", dev_rte_data[\"sentence1\"][1], dev_rte_data[\"sentence2\"][1])"
      ],
      "metadata": {
        "colab": {
          "base_uri": "https://localhost:8080/"
        },
        "id": "VOtKKUkYlKs5",
        "outputId": "05d9dd73-4995-4126-86dc-1ded885d9839"
      },
      "execution_count": 9,
      "outputs": [
        {
          "output_type": "stream",
          "name": "stdout",
          "text": [
            "Total of pairs of test sentences 277\n",
            "Sample of tokenized sentences:  Dana Reeve, the widow of the actor Christopher Reeve, has died of lung cancer at age 44, according to the Christopher Reeve Foundation. Christopher Reeve had an accident.\n"
          ]
        }
      ]
    },
    {
      "cell_type": "code",
      "source": [
        "test_rte_data, test_rte_labels = dev_rte_data[[\"sentence1\", \"sentence2\"]], dev_rte_data[\"label\"]"
      ],
      "metadata": {
        "id": "DVwSSpTNlvcB"
      },
      "execution_count": 10,
      "outputs": []
    },
    {
      "cell_type": "markdown",
      "source": [
        "Train-validation split for fine-tuning models"
      ],
      "metadata": {
        "id": "nEqRHWHtqzTb"
      }
    },
    {
      "cell_type": "code",
      "source": [
        "train_rte_data, val_rte_data, train_rte_labels, val_rte_labels = train_test_split(rte_data[[\"sentence1\", \"sentence2\"]], rte_data[\"label\"], train_size=0.8)"
      ],
      "metadata": {
        "id": "-t2ubxvG1ehn"
      },
      "execution_count": 11,
      "outputs": []
    },
    {
      "cell_type": "code",
      "source": [
        "print(train_rte_data.shape)\n",
        "print(val_rte_data.shape)\n",
        "print(train_rte_labels.shape)\n",
        "print(val_rte_labels.shape)"
      ],
      "metadata": {
        "colab": {
          "base_uri": "https://localhost:8080/"
        },
        "id": "KMz-gg5Jc092",
        "outputId": "a6a5dab6-5ba0-4ae5-f0f8-89f8e2f482be"
      },
      "execution_count": 12,
      "outputs": [
        {
          "output_type": "stream",
          "name": "stdout",
          "text": [
            "(1992, 2)\n",
            "(498, 2)\n",
            "(1992,)\n",
            "(498,)\n"
          ]
        }
      ]
    },
    {
      "cell_type": "markdown",
      "source": [
        "## BERT for sequence classification "
      ],
      "metadata": {
        "id": "hLIAaIoiA3sZ"
      }
    },
    {
      "cell_type": "code",
      "source": [
        "model_class, tokenizer_class, weights = (ppb.BertForSequenceClassification, ppb.BertTokenizer, 'bert-base-uncased')\n",
        "# Load pretrained model and tokenizer\n",
        "tokenizer = tokenizer_class.from_pretrained(weights, do_lower_case=True)\n",
        "model = model_class.from_pretrained(weights)\n",
        "model.cuda()"
      ],
      "metadata": {
        "colab": {
          "base_uri": "https://localhost:8080/"
        },
        "id": "O8fN1fYZCwc3",
        "outputId": "7c53fe82-18e0-40aa-9deb-1afdf7c3aaff"
      },
      "execution_count": 28,
      "outputs": [
        {
          "output_type": "stream",
          "name": "stderr",
          "text": [
            "Some weights of the model checkpoint at bert-base-uncased were not used when initializing BertForSequenceClassification: ['cls.predictions.bias', 'cls.seq_relationship.weight', 'cls.seq_relationship.bias', 'cls.predictions.transform.dense.weight', 'cls.predictions.transform.dense.bias', 'cls.predictions.transform.LayerNorm.bias', 'cls.predictions.decoder.weight', 'cls.predictions.transform.LayerNorm.weight']\n",
            "- This IS expected if you are initializing BertForSequenceClassification from the checkpoint of a model trained on another task or with another architecture (e.g. initializing a BertForSequenceClassification model from a BertForPreTraining model).\n",
            "- This IS NOT expected if you are initializing BertForSequenceClassification from the checkpoint of a model that you expect to be exactly identical (initializing a BertForSequenceClassification model from a BertForSequenceClassification model).\n",
            "Some weights of BertForSequenceClassification were not initialized from the model checkpoint at bert-base-uncased and are newly initialized: ['classifier.weight', 'classifier.bias']\n",
            "You should probably TRAIN this model on a down-stream task to be able to use it for predictions and inference.\n"
          ]
        },
        {
          "output_type": "execute_result",
          "data": {
            "text/plain": [
              "BertForSequenceClassification(\n",
              "  (bert): BertModel(\n",
              "    (embeddings): BertEmbeddings(\n",
              "      (word_embeddings): Embedding(30522, 768, padding_idx=0)\n",
              "      (position_embeddings): Embedding(512, 768)\n",
              "      (token_type_embeddings): Embedding(2, 768)\n",
              "      (LayerNorm): LayerNorm((768,), eps=1e-12, elementwise_affine=True)\n",
              "      (dropout): Dropout(p=0.1, inplace=False)\n",
              "    )\n",
              "    (encoder): BertEncoder(\n",
              "      (layer): ModuleList(\n",
              "        (0): BertLayer(\n",
              "          (attention): BertAttention(\n",
              "            (self): BertSelfAttention(\n",
              "              (query): Linear(in_features=768, out_features=768, bias=True)\n",
              "              (key): Linear(in_features=768, out_features=768, bias=True)\n",
              "              (value): Linear(in_features=768, out_features=768, bias=True)\n",
              "              (dropout): Dropout(p=0.1, inplace=False)\n",
              "            )\n",
              "            (output): BertSelfOutput(\n",
              "              (dense): Linear(in_features=768, out_features=768, bias=True)\n",
              "              (LayerNorm): LayerNorm((768,), eps=1e-12, elementwise_affine=True)\n",
              "              (dropout): Dropout(p=0.1, inplace=False)\n",
              "            )\n",
              "          )\n",
              "          (intermediate): BertIntermediate(\n",
              "            (dense): Linear(in_features=768, out_features=3072, bias=True)\n",
              "            (intermediate_act_fn): GELUActivation()\n",
              "          )\n",
              "          (output): BertOutput(\n",
              "            (dense): Linear(in_features=3072, out_features=768, bias=True)\n",
              "            (LayerNorm): LayerNorm((768,), eps=1e-12, elementwise_affine=True)\n",
              "            (dropout): Dropout(p=0.1, inplace=False)\n",
              "          )\n",
              "        )\n",
              "        (1): BertLayer(\n",
              "          (attention): BertAttention(\n",
              "            (self): BertSelfAttention(\n",
              "              (query): Linear(in_features=768, out_features=768, bias=True)\n",
              "              (key): Linear(in_features=768, out_features=768, bias=True)\n",
              "              (value): Linear(in_features=768, out_features=768, bias=True)\n",
              "              (dropout): Dropout(p=0.1, inplace=False)\n",
              "            )\n",
              "            (output): BertSelfOutput(\n",
              "              (dense): Linear(in_features=768, out_features=768, bias=True)\n",
              "              (LayerNorm): LayerNorm((768,), eps=1e-12, elementwise_affine=True)\n",
              "              (dropout): Dropout(p=0.1, inplace=False)\n",
              "            )\n",
              "          )\n",
              "          (intermediate): BertIntermediate(\n",
              "            (dense): Linear(in_features=768, out_features=3072, bias=True)\n",
              "            (intermediate_act_fn): GELUActivation()\n",
              "          )\n",
              "          (output): BertOutput(\n",
              "            (dense): Linear(in_features=3072, out_features=768, bias=True)\n",
              "            (LayerNorm): LayerNorm((768,), eps=1e-12, elementwise_affine=True)\n",
              "            (dropout): Dropout(p=0.1, inplace=False)\n",
              "          )\n",
              "        )\n",
              "        (2): BertLayer(\n",
              "          (attention): BertAttention(\n",
              "            (self): BertSelfAttention(\n",
              "              (query): Linear(in_features=768, out_features=768, bias=True)\n",
              "              (key): Linear(in_features=768, out_features=768, bias=True)\n",
              "              (value): Linear(in_features=768, out_features=768, bias=True)\n",
              "              (dropout): Dropout(p=0.1, inplace=False)\n",
              "            )\n",
              "            (output): BertSelfOutput(\n",
              "              (dense): Linear(in_features=768, out_features=768, bias=True)\n",
              "              (LayerNorm): LayerNorm((768,), eps=1e-12, elementwise_affine=True)\n",
              "              (dropout): Dropout(p=0.1, inplace=False)\n",
              "            )\n",
              "          )\n",
              "          (intermediate): BertIntermediate(\n",
              "            (dense): Linear(in_features=768, out_features=3072, bias=True)\n",
              "            (intermediate_act_fn): GELUActivation()\n",
              "          )\n",
              "          (output): BertOutput(\n",
              "            (dense): Linear(in_features=3072, out_features=768, bias=True)\n",
              "            (LayerNorm): LayerNorm((768,), eps=1e-12, elementwise_affine=True)\n",
              "            (dropout): Dropout(p=0.1, inplace=False)\n",
              "          )\n",
              "        )\n",
              "        (3): BertLayer(\n",
              "          (attention): BertAttention(\n",
              "            (self): BertSelfAttention(\n",
              "              (query): Linear(in_features=768, out_features=768, bias=True)\n",
              "              (key): Linear(in_features=768, out_features=768, bias=True)\n",
              "              (value): Linear(in_features=768, out_features=768, bias=True)\n",
              "              (dropout): Dropout(p=0.1, inplace=False)\n",
              "            )\n",
              "            (output): BertSelfOutput(\n",
              "              (dense): Linear(in_features=768, out_features=768, bias=True)\n",
              "              (LayerNorm): LayerNorm((768,), eps=1e-12, elementwise_affine=True)\n",
              "              (dropout): Dropout(p=0.1, inplace=False)\n",
              "            )\n",
              "          )\n",
              "          (intermediate): BertIntermediate(\n",
              "            (dense): Linear(in_features=768, out_features=3072, bias=True)\n",
              "            (intermediate_act_fn): GELUActivation()\n",
              "          )\n",
              "          (output): BertOutput(\n",
              "            (dense): Linear(in_features=3072, out_features=768, bias=True)\n",
              "            (LayerNorm): LayerNorm((768,), eps=1e-12, elementwise_affine=True)\n",
              "            (dropout): Dropout(p=0.1, inplace=False)\n",
              "          )\n",
              "        )\n",
              "        (4): BertLayer(\n",
              "          (attention): BertAttention(\n",
              "            (self): BertSelfAttention(\n",
              "              (query): Linear(in_features=768, out_features=768, bias=True)\n",
              "              (key): Linear(in_features=768, out_features=768, bias=True)\n",
              "              (value): Linear(in_features=768, out_features=768, bias=True)\n",
              "              (dropout): Dropout(p=0.1, inplace=False)\n",
              "            )\n",
              "            (output): BertSelfOutput(\n",
              "              (dense): Linear(in_features=768, out_features=768, bias=True)\n",
              "              (LayerNorm): LayerNorm((768,), eps=1e-12, elementwise_affine=True)\n",
              "              (dropout): Dropout(p=0.1, inplace=False)\n",
              "            )\n",
              "          )\n",
              "          (intermediate): BertIntermediate(\n",
              "            (dense): Linear(in_features=768, out_features=3072, bias=True)\n",
              "            (intermediate_act_fn): GELUActivation()\n",
              "          )\n",
              "          (output): BertOutput(\n",
              "            (dense): Linear(in_features=3072, out_features=768, bias=True)\n",
              "            (LayerNorm): LayerNorm((768,), eps=1e-12, elementwise_affine=True)\n",
              "            (dropout): Dropout(p=0.1, inplace=False)\n",
              "          )\n",
              "        )\n",
              "        (5): BertLayer(\n",
              "          (attention): BertAttention(\n",
              "            (self): BertSelfAttention(\n",
              "              (query): Linear(in_features=768, out_features=768, bias=True)\n",
              "              (key): Linear(in_features=768, out_features=768, bias=True)\n",
              "              (value): Linear(in_features=768, out_features=768, bias=True)\n",
              "              (dropout): Dropout(p=0.1, inplace=False)\n",
              "            )\n",
              "            (output): BertSelfOutput(\n",
              "              (dense): Linear(in_features=768, out_features=768, bias=True)\n",
              "              (LayerNorm): LayerNorm((768,), eps=1e-12, elementwise_affine=True)\n",
              "              (dropout): Dropout(p=0.1, inplace=False)\n",
              "            )\n",
              "          )\n",
              "          (intermediate): BertIntermediate(\n",
              "            (dense): Linear(in_features=768, out_features=3072, bias=True)\n",
              "            (intermediate_act_fn): GELUActivation()\n",
              "          )\n",
              "          (output): BertOutput(\n",
              "            (dense): Linear(in_features=3072, out_features=768, bias=True)\n",
              "            (LayerNorm): LayerNorm((768,), eps=1e-12, elementwise_affine=True)\n",
              "            (dropout): Dropout(p=0.1, inplace=False)\n",
              "          )\n",
              "        )\n",
              "        (6): BertLayer(\n",
              "          (attention): BertAttention(\n",
              "            (self): BertSelfAttention(\n",
              "              (query): Linear(in_features=768, out_features=768, bias=True)\n",
              "              (key): Linear(in_features=768, out_features=768, bias=True)\n",
              "              (value): Linear(in_features=768, out_features=768, bias=True)\n",
              "              (dropout): Dropout(p=0.1, inplace=False)\n",
              "            )\n",
              "            (output): BertSelfOutput(\n",
              "              (dense): Linear(in_features=768, out_features=768, bias=True)\n",
              "              (LayerNorm): LayerNorm((768,), eps=1e-12, elementwise_affine=True)\n",
              "              (dropout): Dropout(p=0.1, inplace=False)\n",
              "            )\n",
              "          )\n",
              "          (intermediate): BertIntermediate(\n",
              "            (dense): Linear(in_features=768, out_features=3072, bias=True)\n",
              "            (intermediate_act_fn): GELUActivation()\n",
              "          )\n",
              "          (output): BertOutput(\n",
              "            (dense): Linear(in_features=3072, out_features=768, bias=True)\n",
              "            (LayerNorm): LayerNorm((768,), eps=1e-12, elementwise_affine=True)\n",
              "            (dropout): Dropout(p=0.1, inplace=False)\n",
              "          )\n",
              "        )\n",
              "        (7): BertLayer(\n",
              "          (attention): BertAttention(\n",
              "            (self): BertSelfAttention(\n",
              "              (query): Linear(in_features=768, out_features=768, bias=True)\n",
              "              (key): Linear(in_features=768, out_features=768, bias=True)\n",
              "              (value): Linear(in_features=768, out_features=768, bias=True)\n",
              "              (dropout): Dropout(p=0.1, inplace=False)\n",
              "            )\n",
              "            (output): BertSelfOutput(\n",
              "              (dense): Linear(in_features=768, out_features=768, bias=True)\n",
              "              (LayerNorm): LayerNorm((768,), eps=1e-12, elementwise_affine=True)\n",
              "              (dropout): Dropout(p=0.1, inplace=False)\n",
              "            )\n",
              "          )\n",
              "          (intermediate): BertIntermediate(\n",
              "            (dense): Linear(in_features=768, out_features=3072, bias=True)\n",
              "            (intermediate_act_fn): GELUActivation()\n",
              "          )\n",
              "          (output): BertOutput(\n",
              "            (dense): Linear(in_features=3072, out_features=768, bias=True)\n",
              "            (LayerNorm): LayerNorm((768,), eps=1e-12, elementwise_affine=True)\n",
              "            (dropout): Dropout(p=0.1, inplace=False)\n",
              "          )\n",
              "        )\n",
              "        (8): BertLayer(\n",
              "          (attention): BertAttention(\n",
              "            (self): BertSelfAttention(\n",
              "              (query): Linear(in_features=768, out_features=768, bias=True)\n",
              "              (key): Linear(in_features=768, out_features=768, bias=True)\n",
              "              (value): Linear(in_features=768, out_features=768, bias=True)\n",
              "              (dropout): Dropout(p=0.1, inplace=False)\n",
              "            )\n",
              "            (output): BertSelfOutput(\n",
              "              (dense): Linear(in_features=768, out_features=768, bias=True)\n",
              "              (LayerNorm): LayerNorm((768,), eps=1e-12, elementwise_affine=True)\n",
              "              (dropout): Dropout(p=0.1, inplace=False)\n",
              "            )\n",
              "          )\n",
              "          (intermediate): BertIntermediate(\n",
              "            (dense): Linear(in_features=768, out_features=3072, bias=True)\n",
              "            (intermediate_act_fn): GELUActivation()\n",
              "          )\n",
              "          (output): BertOutput(\n",
              "            (dense): Linear(in_features=3072, out_features=768, bias=True)\n",
              "            (LayerNorm): LayerNorm((768,), eps=1e-12, elementwise_affine=True)\n",
              "            (dropout): Dropout(p=0.1, inplace=False)\n",
              "          )\n",
              "        )\n",
              "        (9): BertLayer(\n",
              "          (attention): BertAttention(\n",
              "            (self): BertSelfAttention(\n",
              "              (query): Linear(in_features=768, out_features=768, bias=True)\n",
              "              (key): Linear(in_features=768, out_features=768, bias=True)\n",
              "              (value): Linear(in_features=768, out_features=768, bias=True)\n",
              "              (dropout): Dropout(p=0.1, inplace=False)\n",
              "            )\n",
              "            (output): BertSelfOutput(\n",
              "              (dense): Linear(in_features=768, out_features=768, bias=True)\n",
              "              (LayerNorm): LayerNorm((768,), eps=1e-12, elementwise_affine=True)\n",
              "              (dropout): Dropout(p=0.1, inplace=False)\n",
              "            )\n",
              "          )\n",
              "          (intermediate): BertIntermediate(\n",
              "            (dense): Linear(in_features=768, out_features=3072, bias=True)\n",
              "            (intermediate_act_fn): GELUActivation()\n",
              "          )\n",
              "          (output): BertOutput(\n",
              "            (dense): Linear(in_features=3072, out_features=768, bias=True)\n",
              "            (LayerNorm): LayerNorm((768,), eps=1e-12, elementwise_affine=True)\n",
              "            (dropout): Dropout(p=0.1, inplace=False)\n",
              "          )\n",
              "        )\n",
              "        (10): BertLayer(\n",
              "          (attention): BertAttention(\n",
              "            (self): BertSelfAttention(\n",
              "              (query): Linear(in_features=768, out_features=768, bias=True)\n",
              "              (key): Linear(in_features=768, out_features=768, bias=True)\n",
              "              (value): Linear(in_features=768, out_features=768, bias=True)\n",
              "              (dropout): Dropout(p=0.1, inplace=False)\n",
              "            )\n",
              "            (output): BertSelfOutput(\n",
              "              (dense): Linear(in_features=768, out_features=768, bias=True)\n",
              "              (LayerNorm): LayerNorm((768,), eps=1e-12, elementwise_affine=True)\n",
              "              (dropout): Dropout(p=0.1, inplace=False)\n",
              "            )\n",
              "          )\n",
              "          (intermediate): BertIntermediate(\n",
              "            (dense): Linear(in_features=768, out_features=3072, bias=True)\n",
              "            (intermediate_act_fn): GELUActivation()\n",
              "          )\n",
              "          (output): BertOutput(\n",
              "            (dense): Linear(in_features=3072, out_features=768, bias=True)\n",
              "            (LayerNorm): LayerNorm((768,), eps=1e-12, elementwise_affine=True)\n",
              "            (dropout): Dropout(p=0.1, inplace=False)\n",
              "          )\n",
              "        )\n",
              "        (11): BertLayer(\n",
              "          (attention): BertAttention(\n",
              "            (self): BertSelfAttention(\n",
              "              (query): Linear(in_features=768, out_features=768, bias=True)\n",
              "              (key): Linear(in_features=768, out_features=768, bias=True)\n",
              "              (value): Linear(in_features=768, out_features=768, bias=True)\n",
              "              (dropout): Dropout(p=0.1, inplace=False)\n",
              "            )\n",
              "            (output): BertSelfOutput(\n",
              "              (dense): Linear(in_features=768, out_features=768, bias=True)\n",
              "              (LayerNorm): LayerNorm((768,), eps=1e-12, elementwise_affine=True)\n",
              "              (dropout): Dropout(p=0.1, inplace=False)\n",
              "            )\n",
              "          )\n",
              "          (intermediate): BertIntermediate(\n",
              "            (dense): Linear(in_features=768, out_features=3072, bias=True)\n",
              "            (intermediate_act_fn): GELUActivation()\n",
              "          )\n",
              "          (output): BertOutput(\n",
              "            (dense): Linear(in_features=3072, out_features=768, bias=True)\n",
              "            (LayerNorm): LayerNorm((768,), eps=1e-12, elementwise_affine=True)\n",
              "            (dropout): Dropout(p=0.1, inplace=False)\n",
              "          )\n",
              "        )\n",
              "      )\n",
              "    )\n",
              "    (pooler): BertPooler(\n",
              "      (dense): Linear(in_features=768, out_features=768, bias=True)\n",
              "      (activation): Tanh()\n",
              "    )\n",
              "  )\n",
              "  (dropout): Dropout(p=0.1, inplace=False)\n",
              "  (classifier): Linear(in_features=768, out_features=2, bias=True)\n",
              ")"
            ]
          },
          "metadata": {},
          "execution_count": 28
        }
      ]
    },
    {
      "cell_type": "markdown",
      "source": [
        "As BERT requires token_type_ids parameter to separate sentences, for each pair of sentences I extract segment_mask: nulls for 1st sentence tokens, ones for 2nd sentence tokens"
      ],
      "metadata": {
        "id": "wq8p5UDOrIcs"
      }
    },
    {
      "cell_type": "code",
      "source": [
        "def prepare_dataset(df, df_labels):\n",
        "    MAX_LEN = 150\n",
        "    tokenized = []\n",
        "    attention_mask = []\n",
        "    segment_mask = []\n",
        "    labels = []\n",
        "    for (sentence1, sentence2, label) in zip(df[\"sentence1\"].values, df[\"sentence2\"].values, df_labels.values):\n",
        "        sentence1_t = tokenizer.encode(sentence1, add_special_tokens=False)\n",
        "        sentence2_t = tokenizer.encode(sentence2, add_special_tokens=False)\n",
        "        seq_t = [tokenizer.cls_token_id] + sentence1_t + [tokenizer.sep_token_id] + sentence2_t + [tokenizer.sep_token_id]\n",
        "        seq_t = torch.tensor(seq_t)\n",
        "        if len(seq_t) <= MAX_LEN:\n",
        "            tokenized.append(seq_t)\n",
        "            labels.append(label)\n",
        "\n",
        "            N1 = len(sentence1_t)\n",
        "            N2 = len(sentence2_t)\n",
        "        \n",
        "            seq_attention_mask = torch.tensor([1] * (N1 + N2 + 3))\n",
        "            attention_mask.append(seq_attention_mask)\n",
        "            seq_segment_mask = torch.tensor([0] * (N1 + 2) + [1] * (N2 + 1))\n",
        "            segment_mask.append(seq_segment_mask)\n",
        "\n",
        "    padded_data = pad_sequence(tokenized, batch_first=True)\n",
        "    padded_attention_mask = pad_sequence(attention_mask, batch_first=True)\n",
        "    padded_segment_mask = pad_sequence(segment_mask, batch_first=True)\n",
        "\n",
        "    return padded_data, padded_attention_mask, padded_segment_mask, labels"
      ],
      "metadata": {
        "id": "fDNWHZ5alDYI"
      },
      "execution_count": 20,
      "outputs": []
    },
    {
      "cell_type": "code",
      "source": [
        "train_data, train_att_mask, train_seg_mask, train_labels = prepare_dataset(train_rte_data, train_rte_labels)\n",
        "test_data, test_att_mask, test_seg_mask, test_labels = prepare_dataset(test_rte_data, test_rte_labels)\n",
        "val_data, val_att_mask, val_seg_mask, val_labels = prepare_dataset(val_rte_data, val_rte_labels)"
      ],
      "metadata": {
        "id": "Weu5QV9xiOdM"
      },
      "execution_count": 25,
      "outputs": []
    },
    {
      "cell_type": "markdown",
      "source": [
        "Learning rate value and number of epochs are recommended as optimal hyperparameters for fine-tuning in Hugging Face tutorials"
      ],
      "metadata": {
        "id": "yQDKfEAhsSr_"
      }
    },
    {
      "cell_type": "code",
      "source": [
        "train_losses = []\n",
        "val_losses = []\n",
        "N_train = train_data.shape[0]\n",
        "N_val = val_data.shape[0]\n",
        "batch_size = 16\n",
        "optimizer = ppb.AdamW(model.parameters(), lr=2e-5)\n",
        "\n",
        "\n",
        "for epoch in range(3):\n",
        "    model.train()\n",
        "    loss_epoch = 0\n",
        "    metric_epoch = 0\n",
        "    for i in range(0, N_train, batch_size):\n",
        "        model.zero_grad() \n",
        "        x_batch = torch.tensor(train_data[i:i+batch_size]).to(device)\n",
        "        att_mask_batch = torch.tensor(train_att_mask[i:i+batch_size]).to(device)\n",
        "        seg_mask_batch = torch.tensor(train_seg_mask[i:i+batch_size]).to(device)\n",
        "        labels_batch = torch.tensor(train_labels[i:i+batch_size]).to(device) \n",
        "\n",
        "        loss, logits = model(x_batch, attention_mask=att_mask_batch, \n",
        "                     token_type_ids=seg_mask_batch, labels=labels_batch).values()\n",
        "\n",
        "        loss_epoch += loss.item()\n",
        "\n",
        "        pred_labels = torch.argmax(logits, dim=1)\n",
        "        pred_labels = pred_labels.detach().cpu().numpy()\n",
        "        true_labels = train_labels[i:i+batch_size]\n",
        "        metric_epoch += accuracy_score(pred_labels, true_labels)\n",
        "\n",
        "        loss.backward()\n",
        "        torch.nn.utils.clip_grad_norm_(model.parameters(), 1.0)\n",
        "        optimizer.step()\n",
        "\n",
        "    n_batches = N_train // batch_size\n",
        "    print(\"Average train loss \", epoch, \"epoch: \", loss_epoch / n_batches)\n",
        "    print(\"Average train accuracy \", epoch, \"epoch\", metric_epoch / n_batches)          \n",
        "\n",
        "    model.eval()\n",
        "    loss_epoch = 0\n",
        "    metric_epoch = 0\n",
        "    for i in range(0, N_val, batch_size):\n",
        "        x_batch = torch.tensor(val_data[i:i+batch_size]).to(device)\n",
        "        att_mask_batch = torch.tensor(val_att_mask[i:i+batch_size]).to(device)\n",
        "        seg_mask_batch = torch.tensor(val_seg_mask[i:i+batch_size]).to(device)\n",
        "        labels_batch = torch.tensor(val_labels[i:i+batch_size]).to(device) \n",
        "\n",
        "        with torch.no_grad():\n",
        "            loss, logits = model(x_batch, attention_mask=att_mask_batch, \n",
        "                     token_type_ids=seg_mask_batch, labels=labels_batch).values()\n",
        "            \n",
        "            loss_epoch += loss.item()\n",
        "\n",
        "            pred_labels = torch.argmax(logits, dim=1)\n",
        "            pred_labels = pred_labels.detach().cpu().numpy()\n",
        "            true_labels = val_labels[i:i+batch_size]\n",
        "            metric_epoch += accuracy_score(pred_labels, true_labels)\n",
        "\n",
        "    n_batches = N_val // batch_size\n",
        "    print(\"Average val loss \", epoch, \"epoch: \", loss_epoch / n_batches)\n",
        "    print(\"Average  val accuracy \", epoch, \"epoch\", metric_epoch / n_batches)"
      ],
      "metadata": {
        "id": "SjF5PjPUEYZz",
        "colab": {
          "base_uri": "https://localhost:8080/"
        },
        "outputId": "8b6c935a-b1ed-40cf-f440-9795ae999b41"
      },
      "execution_count": 29,
      "outputs": [
        {
          "output_type": "stream",
          "name": "stdout",
          "text": [
            "Average train loss  0 epoch:  0.6878416359934032\n",
            "Average train accuracy  0 epoch 0.563034188034188\n",
            "Average val loss  0 epoch:  0.6225482153481451\n",
            "Average  val accuracy  0 epoch 0.6551724137931034\n",
            "Average train loss  1 epoch:  0.5149449875466844\n",
            "Average train accuracy  1 epoch 0.7590811965811965\n",
            "Average val loss  1 epoch:  0.6173298944687021\n",
            "Average  val accuracy  1 epoch 0.6982758620689655\n",
            "Average train loss  2 epoch:  0.3017148079398351\n",
            "Average train accuracy  2 epoch 0.8899572649572649\n",
            "Average val loss  2 epoch:  0.8748351525643776\n",
            "Average  val accuracy  2 epoch 0.6831896551724138\n"
          ]
        }
      ]
    },
    {
      "cell_type": "code",
      "source": [
        "model.eval()\n",
        "N_test = test_data.shape[0]\n",
        "n_batch = N_test // batch_size \n",
        "total_metric = 0\n",
        "\n",
        "for i in range(0, N_test, batch_size):\n",
        "      x_batch = torch.tensor(test_data[i:i+batch_size]).to(device)\n",
        "      att_mask_batch = torch.tensor(test_att_mask[i:i+batch_size]).to(device)\n",
        "      seg_mask_batch = torch.tensor(test_seg_mask[i:i+batch_size]).to(device)\n",
        "      labels_batch = torch.tensor(test_labels[i:i+batch_size]).to(device) \n",
        "\n",
        "      with torch.no_grad():\n",
        "          logits = model(x_batch, token_type_ids=seg_mask_batch, \n",
        "                         attention_mask=att_mask_batch).logits\n",
        "          pred_labels = torch.argmax(logits, dim=1)\n",
        "          pred_labels = pred_labels.detach().cpu().numpy()\n",
        "          true_labels = test_labels[i:i+batch_size]\n",
        "          total_metric += accuracy_score(pred_labels, true_labels)\n",
        "\n",
        "print(\"Average metric value on the test set:\", total_metric / n_batch)"
      ],
      "metadata": {
        "colab": {
          "base_uri": "https://localhost:8080/"
        },
        "id": "aD6Ho1lZ7rua",
        "outputId": "83e57e82-a6aa-457d-9a9b-15c0634411cb"
      },
      "execution_count": 32,
      "outputs": [
        {
          "output_type": "stream",
          "name": "stdout",
          "text": [
            "Average metric value on the test set: 0.7734375\n"
          ]
        }
      ]
    },
    {
      "cell_type": "markdown",
      "source": [
        "## RoBERTa for sequence classification"
      ],
      "metadata": {
        "id": "qlGbzgT2AUix"
      }
    },
    {
      "cell_type": "code",
      "source": [
        "model_class, tokenizer_class, weights = (ppb.RobertaForSequenceClassification, ppb.RobertaTokenizer, 'roberta-base')\n",
        "# Load pretrained model and tokenizer\n",
        "tokenizer = tokenizer_class.from_pretrained(weights, do_lower_case=True)\n",
        "model = model_class.from_pretrained(weights)\n",
        "model.cuda()"
      ],
      "metadata": {
        "colab": {
          "base_uri": "https://localhost:8080/"
        },
        "id": "Q3cxRpdbARcM",
        "outputId": "467a3960-ffe7-4ca5-89a9-068129ec5088"
      },
      "execution_count": 49,
      "outputs": [
        {
          "output_type": "stream",
          "name": "stderr",
          "text": [
            "Some weights of the model checkpoint at roberta-base were not used when initializing RobertaForSequenceClassification: ['lm_head.dense.weight', 'lm_head.decoder.weight', 'roberta.pooler.dense.weight', 'lm_head.layer_norm.bias', 'lm_head.bias', 'lm_head.dense.bias', 'roberta.pooler.dense.bias', 'lm_head.layer_norm.weight']\n",
            "- This IS expected if you are initializing RobertaForSequenceClassification from the checkpoint of a model trained on another task or with another architecture (e.g. initializing a BertForSequenceClassification model from a BertForPreTraining model).\n",
            "- This IS NOT expected if you are initializing RobertaForSequenceClassification from the checkpoint of a model that you expect to be exactly identical (initializing a BertForSequenceClassification model from a BertForSequenceClassification model).\n",
            "Some weights of RobertaForSequenceClassification were not initialized from the model checkpoint at roberta-base and are newly initialized: ['classifier.out_proj.bias', 'classifier.out_proj.weight', 'classifier.dense.bias', 'classifier.dense.weight']\n",
            "You should probably TRAIN this model on a down-stream task to be able to use it for predictions and inference.\n"
          ]
        },
        {
          "output_type": "execute_result",
          "data": {
            "text/plain": [
              "RobertaForSequenceClassification(\n",
              "  (roberta): RobertaModel(\n",
              "    (embeddings): RobertaEmbeddings(\n",
              "      (word_embeddings): Embedding(50265, 768, padding_idx=1)\n",
              "      (position_embeddings): Embedding(514, 768, padding_idx=1)\n",
              "      (token_type_embeddings): Embedding(1, 768)\n",
              "      (LayerNorm): LayerNorm((768,), eps=1e-05, elementwise_affine=True)\n",
              "      (dropout): Dropout(p=0.1, inplace=False)\n",
              "    )\n",
              "    (encoder): RobertaEncoder(\n",
              "      (layer): ModuleList(\n",
              "        (0): RobertaLayer(\n",
              "          (attention): RobertaAttention(\n",
              "            (self): RobertaSelfAttention(\n",
              "              (query): Linear(in_features=768, out_features=768, bias=True)\n",
              "              (key): Linear(in_features=768, out_features=768, bias=True)\n",
              "              (value): Linear(in_features=768, out_features=768, bias=True)\n",
              "              (dropout): Dropout(p=0.1, inplace=False)\n",
              "            )\n",
              "            (output): RobertaSelfOutput(\n",
              "              (dense): Linear(in_features=768, out_features=768, bias=True)\n",
              "              (LayerNorm): LayerNorm((768,), eps=1e-05, elementwise_affine=True)\n",
              "              (dropout): Dropout(p=0.1, inplace=False)\n",
              "            )\n",
              "          )\n",
              "          (intermediate): RobertaIntermediate(\n",
              "            (dense): Linear(in_features=768, out_features=3072, bias=True)\n",
              "            (intermediate_act_fn): GELUActivation()\n",
              "          )\n",
              "          (output): RobertaOutput(\n",
              "            (dense): Linear(in_features=3072, out_features=768, bias=True)\n",
              "            (LayerNorm): LayerNorm((768,), eps=1e-05, elementwise_affine=True)\n",
              "            (dropout): Dropout(p=0.1, inplace=False)\n",
              "          )\n",
              "        )\n",
              "        (1): RobertaLayer(\n",
              "          (attention): RobertaAttention(\n",
              "            (self): RobertaSelfAttention(\n",
              "              (query): Linear(in_features=768, out_features=768, bias=True)\n",
              "              (key): Linear(in_features=768, out_features=768, bias=True)\n",
              "              (value): Linear(in_features=768, out_features=768, bias=True)\n",
              "              (dropout): Dropout(p=0.1, inplace=False)\n",
              "            )\n",
              "            (output): RobertaSelfOutput(\n",
              "              (dense): Linear(in_features=768, out_features=768, bias=True)\n",
              "              (LayerNorm): LayerNorm((768,), eps=1e-05, elementwise_affine=True)\n",
              "              (dropout): Dropout(p=0.1, inplace=False)\n",
              "            )\n",
              "          )\n",
              "          (intermediate): RobertaIntermediate(\n",
              "            (dense): Linear(in_features=768, out_features=3072, bias=True)\n",
              "            (intermediate_act_fn): GELUActivation()\n",
              "          )\n",
              "          (output): RobertaOutput(\n",
              "            (dense): Linear(in_features=3072, out_features=768, bias=True)\n",
              "            (LayerNorm): LayerNorm((768,), eps=1e-05, elementwise_affine=True)\n",
              "            (dropout): Dropout(p=0.1, inplace=False)\n",
              "          )\n",
              "        )\n",
              "        (2): RobertaLayer(\n",
              "          (attention): RobertaAttention(\n",
              "            (self): RobertaSelfAttention(\n",
              "              (query): Linear(in_features=768, out_features=768, bias=True)\n",
              "              (key): Linear(in_features=768, out_features=768, bias=True)\n",
              "              (value): Linear(in_features=768, out_features=768, bias=True)\n",
              "              (dropout): Dropout(p=0.1, inplace=False)\n",
              "            )\n",
              "            (output): RobertaSelfOutput(\n",
              "              (dense): Linear(in_features=768, out_features=768, bias=True)\n",
              "              (LayerNorm): LayerNorm((768,), eps=1e-05, elementwise_affine=True)\n",
              "              (dropout): Dropout(p=0.1, inplace=False)\n",
              "            )\n",
              "          )\n",
              "          (intermediate): RobertaIntermediate(\n",
              "            (dense): Linear(in_features=768, out_features=3072, bias=True)\n",
              "            (intermediate_act_fn): GELUActivation()\n",
              "          )\n",
              "          (output): RobertaOutput(\n",
              "            (dense): Linear(in_features=3072, out_features=768, bias=True)\n",
              "            (LayerNorm): LayerNorm((768,), eps=1e-05, elementwise_affine=True)\n",
              "            (dropout): Dropout(p=0.1, inplace=False)\n",
              "          )\n",
              "        )\n",
              "        (3): RobertaLayer(\n",
              "          (attention): RobertaAttention(\n",
              "            (self): RobertaSelfAttention(\n",
              "              (query): Linear(in_features=768, out_features=768, bias=True)\n",
              "              (key): Linear(in_features=768, out_features=768, bias=True)\n",
              "              (value): Linear(in_features=768, out_features=768, bias=True)\n",
              "              (dropout): Dropout(p=0.1, inplace=False)\n",
              "            )\n",
              "            (output): RobertaSelfOutput(\n",
              "              (dense): Linear(in_features=768, out_features=768, bias=True)\n",
              "              (LayerNorm): LayerNorm((768,), eps=1e-05, elementwise_affine=True)\n",
              "              (dropout): Dropout(p=0.1, inplace=False)\n",
              "            )\n",
              "          )\n",
              "          (intermediate): RobertaIntermediate(\n",
              "            (dense): Linear(in_features=768, out_features=3072, bias=True)\n",
              "            (intermediate_act_fn): GELUActivation()\n",
              "          )\n",
              "          (output): RobertaOutput(\n",
              "            (dense): Linear(in_features=3072, out_features=768, bias=True)\n",
              "            (LayerNorm): LayerNorm((768,), eps=1e-05, elementwise_affine=True)\n",
              "            (dropout): Dropout(p=0.1, inplace=False)\n",
              "          )\n",
              "        )\n",
              "        (4): RobertaLayer(\n",
              "          (attention): RobertaAttention(\n",
              "            (self): RobertaSelfAttention(\n",
              "              (query): Linear(in_features=768, out_features=768, bias=True)\n",
              "              (key): Linear(in_features=768, out_features=768, bias=True)\n",
              "              (value): Linear(in_features=768, out_features=768, bias=True)\n",
              "              (dropout): Dropout(p=0.1, inplace=False)\n",
              "            )\n",
              "            (output): RobertaSelfOutput(\n",
              "              (dense): Linear(in_features=768, out_features=768, bias=True)\n",
              "              (LayerNorm): LayerNorm((768,), eps=1e-05, elementwise_affine=True)\n",
              "              (dropout): Dropout(p=0.1, inplace=False)\n",
              "            )\n",
              "          )\n",
              "          (intermediate): RobertaIntermediate(\n",
              "            (dense): Linear(in_features=768, out_features=3072, bias=True)\n",
              "            (intermediate_act_fn): GELUActivation()\n",
              "          )\n",
              "          (output): RobertaOutput(\n",
              "            (dense): Linear(in_features=3072, out_features=768, bias=True)\n",
              "            (LayerNorm): LayerNorm((768,), eps=1e-05, elementwise_affine=True)\n",
              "            (dropout): Dropout(p=0.1, inplace=False)\n",
              "          )\n",
              "        )\n",
              "        (5): RobertaLayer(\n",
              "          (attention): RobertaAttention(\n",
              "            (self): RobertaSelfAttention(\n",
              "              (query): Linear(in_features=768, out_features=768, bias=True)\n",
              "              (key): Linear(in_features=768, out_features=768, bias=True)\n",
              "              (value): Linear(in_features=768, out_features=768, bias=True)\n",
              "              (dropout): Dropout(p=0.1, inplace=False)\n",
              "            )\n",
              "            (output): RobertaSelfOutput(\n",
              "              (dense): Linear(in_features=768, out_features=768, bias=True)\n",
              "              (LayerNorm): LayerNorm((768,), eps=1e-05, elementwise_affine=True)\n",
              "              (dropout): Dropout(p=0.1, inplace=False)\n",
              "            )\n",
              "          )\n",
              "          (intermediate): RobertaIntermediate(\n",
              "            (dense): Linear(in_features=768, out_features=3072, bias=True)\n",
              "            (intermediate_act_fn): GELUActivation()\n",
              "          )\n",
              "          (output): RobertaOutput(\n",
              "            (dense): Linear(in_features=3072, out_features=768, bias=True)\n",
              "            (LayerNorm): LayerNorm((768,), eps=1e-05, elementwise_affine=True)\n",
              "            (dropout): Dropout(p=0.1, inplace=False)\n",
              "          )\n",
              "        )\n",
              "        (6): RobertaLayer(\n",
              "          (attention): RobertaAttention(\n",
              "            (self): RobertaSelfAttention(\n",
              "              (query): Linear(in_features=768, out_features=768, bias=True)\n",
              "              (key): Linear(in_features=768, out_features=768, bias=True)\n",
              "              (value): Linear(in_features=768, out_features=768, bias=True)\n",
              "              (dropout): Dropout(p=0.1, inplace=False)\n",
              "            )\n",
              "            (output): RobertaSelfOutput(\n",
              "              (dense): Linear(in_features=768, out_features=768, bias=True)\n",
              "              (LayerNorm): LayerNorm((768,), eps=1e-05, elementwise_affine=True)\n",
              "              (dropout): Dropout(p=0.1, inplace=False)\n",
              "            )\n",
              "          )\n",
              "          (intermediate): RobertaIntermediate(\n",
              "            (dense): Linear(in_features=768, out_features=3072, bias=True)\n",
              "            (intermediate_act_fn): GELUActivation()\n",
              "          )\n",
              "          (output): RobertaOutput(\n",
              "            (dense): Linear(in_features=3072, out_features=768, bias=True)\n",
              "            (LayerNorm): LayerNorm((768,), eps=1e-05, elementwise_affine=True)\n",
              "            (dropout): Dropout(p=0.1, inplace=False)\n",
              "          )\n",
              "        )\n",
              "        (7): RobertaLayer(\n",
              "          (attention): RobertaAttention(\n",
              "            (self): RobertaSelfAttention(\n",
              "              (query): Linear(in_features=768, out_features=768, bias=True)\n",
              "              (key): Linear(in_features=768, out_features=768, bias=True)\n",
              "              (value): Linear(in_features=768, out_features=768, bias=True)\n",
              "              (dropout): Dropout(p=0.1, inplace=False)\n",
              "            )\n",
              "            (output): RobertaSelfOutput(\n",
              "              (dense): Linear(in_features=768, out_features=768, bias=True)\n",
              "              (LayerNorm): LayerNorm((768,), eps=1e-05, elementwise_affine=True)\n",
              "              (dropout): Dropout(p=0.1, inplace=False)\n",
              "            )\n",
              "          )\n",
              "          (intermediate): RobertaIntermediate(\n",
              "            (dense): Linear(in_features=768, out_features=3072, bias=True)\n",
              "            (intermediate_act_fn): GELUActivation()\n",
              "          )\n",
              "          (output): RobertaOutput(\n",
              "            (dense): Linear(in_features=3072, out_features=768, bias=True)\n",
              "            (LayerNorm): LayerNorm((768,), eps=1e-05, elementwise_affine=True)\n",
              "            (dropout): Dropout(p=0.1, inplace=False)\n",
              "          )\n",
              "        )\n",
              "        (8): RobertaLayer(\n",
              "          (attention): RobertaAttention(\n",
              "            (self): RobertaSelfAttention(\n",
              "              (query): Linear(in_features=768, out_features=768, bias=True)\n",
              "              (key): Linear(in_features=768, out_features=768, bias=True)\n",
              "              (value): Linear(in_features=768, out_features=768, bias=True)\n",
              "              (dropout): Dropout(p=0.1, inplace=False)\n",
              "            )\n",
              "            (output): RobertaSelfOutput(\n",
              "              (dense): Linear(in_features=768, out_features=768, bias=True)\n",
              "              (LayerNorm): LayerNorm((768,), eps=1e-05, elementwise_affine=True)\n",
              "              (dropout): Dropout(p=0.1, inplace=False)\n",
              "            )\n",
              "          )\n",
              "          (intermediate): RobertaIntermediate(\n",
              "            (dense): Linear(in_features=768, out_features=3072, bias=True)\n",
              "            (intermediate_act_fn): GELUActivation()\n",
              "          )\n",
              "          (output): RobertaOutput(\n",
              "            (dense): Linear(in_features=3072, out_features=768, bias=True)\n",
              "            (LayerNorm): LayerNorm((768,), eps=1e-05, elementwise_affine=True)\n",
              "            (dropout): Dropout(p=0.1, inplace=False)\n",
              "          )\n",
              "        )\n",
              "        (9): RobertaLayer(\n",
              "          (attention): RobertaAttention(\n",
              "            (self): RobertaSelfAttention(\n",
              "              (query): Linear(in_features=768, out_features=768, bias=True)\n",
              "              (key): Linear(in_features=768, out_features=768, bias=True)\n",
              "              (value): Linear(in_features=768, out_features=768, bias=True)\n",
              "              (dropout): Dropout(p=0.1, inplace=False)\n",
              "            )\n",
              "            (output): RobertaSelfOutput(\n",
              "              (dense): Linear(in_features=768, out_features=768, bias=True)\n",
              "              (LayerNorm): LayerNorm((768,), eps=1e-05, elementwise_affine=True)\n",
              "              (dropout): Dropout(p=0.1, inplace=False)\n",
              "            )\n",
              "          )\n",
              "          (intermediate): RobertaIntermediate(\n",
              "            (dense): Linear(in_features=768, out_features=3072, bias=True)\n",
              "            (intermediate_act_fn): GELUActivation()\n",
              "          )\n",
              "          (output): RobertaOutput(\n",
              "            (dense): Linear(in_features=3072, out_features=768, bias=True)\n",
              "            (LayerNorm): LayerNorm((768,), eps=1e-05, elementwise_affine=True)\n",
              "            (dropout): Dropout(p=0.1, inplace=False)\n",
              "          )\n",
              "        )\n",
              "        (10): RobertaLayer(\n",
              "          (attention): RobertaAttention(\n",
              "            (self): RobertaSelfAttention(\n",
              "              (query): Linear(in_features=768, out_features=768, bias=True)\n",
              "              (key): Linear(in_features=768, out_features=768, bias=True)\n",
              "              (value): Linear(in_features=768, out_features=768, bias=True)\n",
              "              (dropout): Dropout(p=0.1, inplace=False)\n",
              "            )\n",
              "            (output): RobertaSelfOutput(\n",
              "              (dense): Linear(in_features=768, out_features=768, bias=True)\n",
              "              (LayerNorm): LayerNorm((768,), eps=1e-05, elementwise_affine=True)\n",
              "              (dropout): Dropout(p=0.1, inplace=False)\n",
              "            )\n",
              "          )\n",
              "          (intermediate): RobertaIntermediate(\n",
              "            (dense): Linear(in_features=768, out_features=3072, bias=True)\n",
              "            (intermediate_act_fn): GELUActivation()\n",
              "          )\n",
              "          (output): RobertaOutput(\n",
              "            (dense): Linear(in_features=3072, out_features=768, bias=True)\n",
              "            (LayerNorm): LayerNorm((768,), eps=1e-05, elementwise_affine=True)\n",
              "            (dropout): Dropout(p=0.1, inplace=False)\n",
              "          )\n",
              "        )\n",
              "        (11): RobertaLayer(\n",
              "          (attention): RobertaAttention(\n",
              "            (self): RobertaSelfAttention(\n",
              "              (query): Linear(in_features=768, out_features=768, bias=True)\n",
              "              (key): Linear(in_features=768, out_features=768, bias=True)\n",
              "              (value): Linear(in_features=768, out_features=768, bias=True)\n",
              "              (dropout): Dropout(p=0.1, inplace=False)\n",
              "            )\n",
              "            (output): RobertaSelfOutput(\n",
              "              (dense): Linear(in_features=768, out_features=768, bias=True)\n",
              "              (LayerNorm): LayerNorm((768,), eps=1e-05, elementwise_affine=True)\n",
              "              (dropout): Dropout(p=0.1, inplace=False)\n",
              "            )\n",
              "          )\n",
              "          (intermediate): RobertaIntermediate(\n",
              "            (dense): Linear(in_features=768, out_features=3072, bias=True)\n",
              "            (intermediate_act_fn): GELUActivation()\n",
              "          )\n",
              "          (output): RobertaOutput(\n",
              "            (dense): Linear(in_features=3072, out_features=768, bias=True)\n",
              "            (LayerNorm): LayerNorm((768,), eps=1e-05, elementwise_affine=True)\n",
              "            (dropout): Dropout(p=0.1, inplace=False)\n",
              "          )\n",
              "        )\n",
              "      )\n",
              "    )\n",
              "  )\n",
              "  (classifier): RobertaClassificationHead(\n",
              "    (dense): Linear(in_features=768, out_features=768, bias=True)\n",
              "    (dropout): Dropout(p=0.1, inplace=False)\n",
              "    (out_proj): Linear(in_features=768, out_features=2, bias=True)\n",
              "  )\n",
              ")"
            ]
          },
          "metadata": {},
          "execution_count": 49
        }
      ]
    },
    {
      "cell_type": "code",
      "source": [
        "print(\"Total of model parameters\", len(list(model.parameters())))"
      ],
      "metadata": {
        "colab": {
          "base_uri": "https://localhost:8080/"
        },
        "id": "fFsBUlFEJ_ue",
        "outputId": "cfdf849d-a211-446a-ccfd-ff4d5508938a"
      },
      "execution_count": 35,
      "outputs": [
        {
          "output_type": "stream",
          "name": "stdout",
          "text": [
            "Total of model parameters 201\n"
          ]
        }
      ]
    },
    {
      "cell_type": "code",
      "source": [
        "def prepare_dataset_for_roberta(df, df_labels):\n",
        "    MAX_LEN = 150\n",
        "    tokenized = []\n",
        "    attention_mask = []\n",
        "    labels = []\n",
        "\n",
        "    for (sentence1, sentence2, label) in zip(df[\"sentence1\"].values, df[\"sentence2\"].values, df_labels.values):\n",
        "        sentence1_t = tokenizer.encode(sentence1, add_special_tokens=False)\n",
        "        sentence2_t = tokenizer.encode(sentence2, add_special_tokens=False)\n",
        "        seq_t = [tokenizer.cls_token_id] + sentence1_t + [tokenizer.sep_token_id] + sentence2_t + [tokenizer.sep_token_id]\n",
        "        seq_t = torch.tensor(seq_t)\n",
        "        if len(seq_t) <= MAX_LEN:\n",
        "            tokenized.append(seq_t)\n",
        "            labels.append(label)\n",
        "            seq_attention_mask = torch.tensor([1] * (len(seq_t)))\n",
        "            attention_mask.append(seq_attention_mask)\n",
        "\n",
        "    padded_data = pad_sequence(tokenized, batch_first=True)\n",
        "    padded_attention_mask = pad_sequence(attention_mask, batch_first=True)\n",
        "\n",
        "    return padded_data, padded_attention_mask, labels"
      ],
      "metadata": {
        "id": "a4p5EucULT8t"
      },
      "execution_count": 36,
      "outputs": []
    },
    {
      "cell_type": "code",
      "source": [
        "train_data, train_att_mask, train_labels = prepare_dataset_for_roberta(train_rte_data, train_rte_labels)\n",
        "test_data, test_att_mask, test_labels = prepare_dataset_for_roberta(test_rte_data, test_rte_labels)\n",
        "val_data, val_att_mask, val_labels = prepare_dataset_for_roberta(val_rte_data, val_rte_labels)"
      ],
      "metadata": {
        "id": "d8bzKFiYL8vy"
      },
      "execution_count": 38,
      "outputs": []
    },
    {
      "cell_type": "code",
      "source": [
        "print(train_data.shape)\n",
        "print(test_data.shape)\n",
        "print(val_data.shape)"
      ],
      "metadata": {
        "colab": {
          "base_uri": "https://localhost:8080/"
        },
        "outputId": "c7d2a46b-2f08-40c8-e745-2ba9692ed21b",
        "id": "Nq3Bz1hoL8vy"
      },
      "execution_count": 40,
      "outputs": [
        {
          "output_type": "stream",
          "name": "stdout",
          "text": [
            "torch.Size([1871, 150])\n",
            "torch.Size([259, 146])\n",
            "torch.Size([465, 150])\n"
          ]
        }
      ]
    },
    {
      "cell_type": "code",
      "source": [
        "train_losses = []\n",
        "val_losses = []\n",
        "N_train = train_data.shape[0]\n",
        "N_val = val_data.shape[0]\n",
        "batch_size = 16\n",
        "optimizer = ppb.AdamW(model.parameters(), lr=2e-5)\n",
        "\n",
        "\n",
        "for epoch in range(4):\n",
        "    model.train()\n",
        "    loss_epoch = 0\n",
        "    metric_epoch = 0\n",
        "    for i in range(0, N_train, batch_size):\n",
        "        model.zero_grad() \n",
        "        x_batch = torch.tensor(train_data[i:i+batch_size]).to(device)\n",
        "        att_mask_batch = torch.tensor(train_att_mask[i:i+batch_size]).to(device)\n",
        "        labels_batch = torch.tensor(train_labels[i:i+batch_size]).to(device) \n",
        "\n",
        "        loss, logits = model(x_batch, attention_mask=att_mask_batch, \n",
        "                             labels=labels_batch).values()\n",
        "\n",
        "        loss_epoch += loss.item()\n",
        "\n",
        "        pred_labels = torch.argmax(logits, dim=1)\n",
        "        pred_labels = pred_labels.detach().cpu().numpy()\n",
        "        true_labels = train_labels[i:i+batch_size]\n",
        "        metric_epoch += accuracy_score(pred_labels, true_labels)\n",
        "\n",
        "        loss.backward()\n",
        "        torch.nn.utils.clip_grad_norm_(model.parameters(), 1.0)\n",
        "        optimizer.step()\n",
        "\n",
        "    n_batches = N_train // batch_size\n",
        "    print(\"Average train loss \", epoch, \"epoch: \", loss_epoch / n_batches)\n",
        "    print(\"Average train accuracy \", epoch, \"epoch\", metric_epoch / n_batches)          \n",
        "\n",
        "    model.eval()\n",
        "    loss_epoch = 0\n",
        "    metric_epoch = 0\n",
        "    for i in range(0, N_val, batch_size):\n",
        "        x_batch = torch.tensor(val_data[i:i+batch_size]).to(device)\n",
        "        att_mask_batch = torch.tensor(val_att_mask[i:i+batch_size]).to(device)\n",
        "        labels_batch = torch.tensor(val_labels[i:i+batch_size]).to(device) \n",
        "\n",
        "        with torch.no_grad():\n",
        "            loss, logits = model(x_batch, attention_mask=att_mask_batch, \n",
        "                                 labels=labels_batch).values()\n",
        "            \n",
        "            loss_epoch += loss.item()\n",
        "\n",
        "            pred_labels = torch.argmax(logits, dim=1)\n",
        "            pred_labels = pred_labels.detach().cpu().numpy()\n",
        "            true_labels = val_labels[i:i+batch_size]\n",
        "            metric_epoch += accuracy_score(pred_labels, true_labels)\n",
        "\n",
        "    n_batches = N_val // batch_size\n",
        "    print(\"Average val loss \", epoch, \"epoch: \", loss_epoch / n_batches)\n",
        "    print(\"Average  val accuracy \", epoch, \"epoch\", metric_epoch / n_batches)"
      ],
      "metadata": {
        "colab": {
          "base_uri": "https://localhost:8080/"
        },
        "id": "x4Br9DnzMNFG",
        "outputId": "5ebe862a-ce56-474f-9c8e-2b383c856c4f"
      },
      "execution_count": 46,
      "outputs": [
        {
          "output_type": "stream",
          "name": "stdout",
          "text": [
            "Average train loss  0 epoch:  0.6912930186452537\n",
            "Average train accuracy  0 epoch 0.5542385057471265\n",
            "Average val loss  0 epoch:  0.6451064738734015\n",
            "Average  val accuracy  0 epoch 0.7068965517241379\n",
            "Average train loss  1 epoch:  0.5655121284312216\n",
            "Average train accuracy  1 epoch 0.7218749999999999\n",
            "Average val loss  1 epoch:  0.5858345427389803\n",
            "Average  val accuracy  1 epoch 0.7521551724137931\n",
            "Average train loss  2 epoch:  0.426902521979706\n",
            "Average train accuracy  2 epoch 0.8248922413793104\n",
            "Average val loss  2 epoch:  0.7371087765385365\n",
            "Average  val accuracy  2 epoch 0.7629310344827587\n",
            "Average train loss  3 epoch:  0.2767002041580091\n",
            "Average train accuracy  3 epoch 0.915948275862069\n",
            "Average val loss  3 epoch:  0.9309791931561355\n",
            "Average  val accuracy  3 epoch 0.7887931034482759\n"
          ]
        }
      ]
    },
    {
      "cell_type": "code",
      "source": [
        "model.eval()\n",
        "N_test = test_data.shape[0]\n",
        "n_batch = N_test // batch_size \n",
        "total_metric = 0\n",
        "\n",
        "for i in range(0, N_test, batch_size):\n",
        "      x_batch = torch.tensor(test_data[i:i+batch_size]).to(device)\n",
        "      att_mask_batch = torch.tensor(test_att_mask[i:i+batch_size]).to(device)\n",
        "      labels_batch = torch.tensor(test_labels[i:i+batch_size]).to(device) \n",
        "\n",
        "      with torch.no_grad():\n",
        "          logits = model(x_batch, attention_mask=att_mask_batch).logits\n",
        "          pred_labels = torch.argmax(logits, dim=1)\n",
        "          pred_labels = pred_labels.detach().cpu().numpy()\n",
        "          true_labels = test_labels[i:i+batch_size]\n",
        "          total_metric += accuracy_score(pred_labels, true_labels)\n",
        "\n",
        "print(\"Average metric value on the test set:\", total_metric / n_batch)"
      ],
      "metadata": {
        "colab": {
          "base_uri": "https://localhost:8080/"
        },
        "id": "K1Uyx7kHOCEQ",
        "outputId": "2ff24fb6-b319-4579-e49b-2588a810e647"
      },
      "execution_count": 48,
      "outputs": [
        {
          "output_type": "stream",
          "name": "stdout",
          "text": [
            "Average metric value on the test set: 0.7955729166666666\n"
          ]
        }
      ]
    },
    {
      "cell_type": "markdown",
      "source": [
        "Average metric values for train, validation and test have improved!"
      ],
      "metadata": {
        "id": "Fk8nceISuDGp"
      }
    }
  ]
}